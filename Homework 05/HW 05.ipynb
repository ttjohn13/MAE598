{
 "cells": [
  {
   "cell_type": "code",
   "execution_count": 7,
   "metadata": {
    "collapsed": true
   },
   "outputs": [
    {
     "name": "stdout",
     "output_type": "stream",
     "text": [
      "[[1.06090661]\n",
      " [1.45664451]]\n"
     ]
    }
   ],
   "source": [
    "import numpy as np\n",
    "\n",
    "# Initialization for SQP\n",
    "Xk = np.array([[1],[1]])\n",
    "muk = np.zeros((2, 1))\n",
    "W = np.identity(2)\n",
    "w = np.zeros((2, 1))\n",
    "k = 0\n",
    "eps_term = 10e-3\n",
    "counter = 0\n",
    "\n",
    "# Function to be minimized\n",
    "def func(X):\n",
    "    x1 = X[0].reshape(-1, 1)\n",
    "    x2 = X[1].reshape(-1, 1)\n",
    "    f = x1**2 + (x2 - 3)**2\n",
    "    return f\n",
    "\n",
    "def funcx(X):\n",
    "    x1 = X[0].reshape(-1, 1)\n",
    "    x2 = X[1].reshape(-1, 1)\n",
    "    fx = np.vstack((2 * x1, 2 * (x2 - 3)))\n",
    "    return fx\n",
    "\n",
    "def ineq_constraint(X):\n",
    "    x1 = X[0].reshape(-1, 1)\n",
    "    x2 = X[1].reshape(-1, 1)\n",
    "    g = np.vstack((x2**2 - 2 * x1, (x2 -1)**2 + 5 * x1 - 15))\n",
    "    return g\n",
    "\n",
    "def dgx(X):\n",
    "    x1 = X[0].reshape(-1, 1)\n",
    "    x2 = X[1].reshape(-1, 1)\n",
    "    dg_x = np.vstack((np.hstack((np.array([[-2]]), 2 * x2)), np.hstack((np.array([[5]]), 2 * (x2 -1)))))\n",
    "    return dg_x\n",
    "\n",
    "def del_lagrangian(X, mu):\n",
    "    x1 = X[0].reshape(-1, 1)\n",
    "    x2 = X[1].reshape(-1, 1)\n",
    "    delLx = np.hstack(((2 * x1), (2 * (x2 -3)))) + np.matmul(np.transpose(mu), np.vstack((np.hstack((np.array([[-2]]), 2*x1)),np.hstack((np.array([[5]]), 2*(x2 -1))))))\n",
    "    delLmu = np.hstack((x2**2 - 2 * x1, (x2 - 1)**2 + 5 * x1 - 15))\n",
    "    return delLx, delLmu\n",
    "\n",
    "def linesearch(f, df, g, dg, x, s, mu_old, w_old):\n",
    "    t = 0.2\n",
    "    b = 0.8\n",
    "    a = 1\n",
    "\n",
    "    D = s\n",
    "\n",
    "    w = np.hstack((abs(mu_old), 0.5 * (w_old + abs(mu_old)))).max(1).reshape(-1,1)\n",
    "    counter = 0\n",
    "    while counter < 100:\n",
    "        f_a = f(x + a * D) + np.matmul(np.transpose(w),abs(np.hstack((np.zeros_like(g(x)), -g(x + a * D))).min(1)).reshape(-1, 1))\n",
    "\n",
    "        f0 = f(x) + np.matmul(np.transpose(w),abs(np.hstack((np.zeros_like(g(x)), -g(x))).min(1)).reshape(-1, 1))\n",
    "        boolean = np.hstack((np.zeros_like(g(x)), g(x))).max(1).reshape(-1, 1) > 0\n",
    "        dmaxg = np.zeros((len(boolean), 1))\n",
    "        dmaxg0 = np.matmul(dg(x), D)\n",
    "        dmaxg[boolean] = dmaxg0[boolean]\n",
    "        df0 = np.matmul(np.transpose(df(x)), D) + np.matmul(np.transpose(w), dmaxg)\n",
    "        phi_a = f0 + t * a * df0\n",
    "\n",
    "        if f_a < phi_a:\n",
    "            return a, w\n",
    "        else:\n",
    "            a = a * b\n",
    "            counter += 1\n",
    "\n",
    "def BFGS(W, dx, X, df):\n",
    "    y = df(X) - df(X - dx)\n",
    "    Q = np.matmul(np.matmul(dx.T, W), dx)\n",
    "    if np.matmul(dx.T, y) >= 0.2 * Q:\n",
    "        theta = 1\n",
    "    else:\n",
    "        theta = 0.8 * Q / (Q - np.matmul(dx.T, y))\n",
    "\n",
    "    y = theta * y + (1 - theta) * np.matmul(W, dx)\n",
    "    W = W + np.matmul(y, y.T) / np.matmul(y.T, dx) - np.matmul(np.matmul(W, dx), np.matmul(dx.T, W))\n",
    "    return W\n",
    "\n",
    "from myQP import myQP\n",
    "\n",
    "[delx_lagrange, delmu_lagrange] = del_lagrangian(Xk, muk)\n",
    "\n",
    "while np.linalg.norm(delx_lagrange) > eps_term and counter < 100:\n",
    "    [sk, muk1] = myQP(Xk, W, funcx, ineq_constraint, dgx)\n",
    "    alphak, w = linesearch(func, funcx, ineq_constraint, dgx, Xk, sk, muk1, w)\n",
    "    Xk = Xk + alphak*sk\n",
    "    W = BFGS(W, alphak*sk, Xk, funcx)\n",
    "    [delx_lagrange, delmu_lagrange] = del_lagrangian(Xk, muk1)\n",
    "    counter += 1\n",
    "\n",
    "print(Xk)\n"
   ]
  },
  {
   "cell_type": "markdown",
   "source": [
    "The final solution is $ x_1 = 1.06090661\\ $ and $ x_2 = 1.45664451$"
   ],
   "metadata": {
    "collapsed": false
   }
  },
  {
   "cell_type": "code",
   "execution_count": null,
   "outputs": [],
   "source": [],
   "metadata": {
    "collapsed": false
   }
  }
 ],
 "metadata": {
  "kernelspec": {
   "display_name": "Python 3",
   "language": "python",
   "name": "python3"
  },
  "language_info": {
   "codemirror_mode": {
    "name": "ipython",
    "version": 2
   },
   "file_extension": ".py",
   "mimetype": "text/x-python",
   "name": "python",
   "nbconvert_exporter": "python",
   "pygments_lexer": "ipython2",
   "version": "2.7.6"
  }
 },
 "nbformat": 4,
 "nbformat_minor": 0
}
