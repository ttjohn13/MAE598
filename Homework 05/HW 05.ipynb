{
 "cells": [
  {
   "cell_type": "code",
   "execution_count": null,
   "metadata": {
    "collapsed": true
   },
   "outputs": [],
   "source": [
    "import numpy as np\n",
    "import qpsolvers as qp\n",
    "\n",
    "\n",
    "# Initialization for SQP\n",
    "X0 = np.array([[1],[1]])\n",
    "mu_0 = np.zeros([2, 1])\n",
    "W_0 = np.identity(2)\n",
    "k = 0\n",
    "eps_term = 10e-3\n",
    "counter = 0\n",
    "\n",
    "# Function to be minimized\n",
    "def func(X):\n",
    "    x1 = X[0]\n",
    "    x2 = X[1]\n",
    "    f = x1**2 + (x2 - 3)**2\n",
    "    farray = np.array([[f]])\n",
    "    return farray\n",
    "\n",
    "def ineq_constraint(X):\n",
    "    x1 = X[0]\n",
    "    x2 = X[1]\n",
    "    g = np.array([[x2**2 - 2 * x1], [(x2 -1)**2 + 5 * x1 - 15]])\n",
    "    return g\n",
    "\n",
    "def del_lagrangian(X, mu):\n",
    "    x1 = X[0]\n",
    "    x2 = X[1]\n",
    "    delLx = np.array([[2 * x1, 2 * (x2 -3)]]) + np.matmul(np.transpose(mu), np.array([[-2, 2*x2],[5, 2 * (x2 -1)]]))\n",
    "    delLmu = np.array([[x2**2 - 2 * x1], [(x2 - 1)**2 + 5 * x1 - 15]])\n",
    "    return delLx, delLmu\n",
    "\n",
    "[delx_lagrange, delmu_lagrange] = del_lagrangian(X0, mu_0)\n",
    "\n",
    "while np.linalg.norm(delx_lagrange) > eps_term and counter < 100:\n",
    "    [sk, muk1] = QP(xk, muk, f, g, A, W)\n",
    "    alphak = linesearch (sk, muk1, f, g, A)\n",
    "    xk = xk + alphak*sk\n",
    "    W = BFGS(W, alphak*sk, xk, muk1, f, g, A)\n",
    "    [delx_lagrange, delmu_lagrange] = del_lagrangian(X0, mu_0)\n",
    "\n",
    "\n"
   ]
  }
 ],
 "metadata": {
  "kernelspec": {
   "display_name": "Python 3",
   "language": "python",
   "name": "python3"
  },
  "language_info": {
   "codemirror_mode": {
    "name": "ipython",
    "version": 2
   },
   "file_extension": ".py",
   "mimetype": "text/x-python",
   "name": "python",
   "nbconvert_exporter": "python",
   "pygments_lexer": "ipython2",
   "version": "2.7.6"
  }
 },
 "nbformat": 4,
 "nbformat_minor": 0
}
