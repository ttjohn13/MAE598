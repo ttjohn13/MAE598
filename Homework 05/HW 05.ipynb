{
 "cells": [
  {
   "cell_type": "code",
   "execution_count": 5,
   "metadata": {
    "collapsed": true
   },
   "outputs": [
    {
     "name": "stderr",
     "output_type": "stream",
     "text": [
      "C:\\Users\\trevo\\AppData\\Local\\Temp\\ipykernel_2244\\4241186711.py:35: VisibleDeprecationWarning: Creating an ndarray from ragged nested sequences (which is a list-or-tuple of lists-or-tuples-or ndarrays with different lengths or shapes) is deprecated. If you meant to do this, you must specify 'dtype=object' when creating the ndarray.\n",
      "  dg_x = np.array([[-2, 2 * x2],\n"
     ]
    },
    {
     "ename": "ValueError",
     "evalue": "matmul: Input operand 1 has a mismatch in its core dimension 0, with gufunc signature (n?,k),(k,m?)->(n?,m?) (size 1 is different from 2)",
     "output_type": "error",
     "traceback": [
      "\u001B[1;31m---------------------------------------------------------------------------\u001B[0m",
      "\u001B[1;31mValueError\u001B[0m                                Traceback (most recent call last)",
      "Cell \u001B[1;32mIn [5], line 89\u001B[0m\n\u001B[0;32m     86\u001B[0m [delx_lagrange, delmu_lagrange] \u001B[38;5;241m=\u001B[39m del_lagrangian(Xk, muk)\n\u001B[0;32m     88\u001B[0m \u001B[38;5;28;01mwhile\u001B[39;00m np\u001B[38;5;241m.\u001B[39mlinalg\u001B[38;5;241m.\u001B[39mnorm(delx_lagrange) \u001B[38;5;241m>\u001B[39m eps_term \u001B[38;5;129;01mand\u001B[39;00m counter \u001B[38;5;241m<\u001B[39m \u001B[38;5;241m100\u001B[39m:\n\u001B[1;32m---> 89\u001B[0m     [sk, muk1] \u001B[38;5;241m=\u001B[39m \u001B[43mmyQP\u001B[49m\u001B[43m(\u001B[49m\u001B[43mXk\u001B[49m\u001B[43m,\u001B[49m\u001B[43m \u001B[49m\u001B[43mW\u001B[49m\u001B[43m,\u001B[49m\u001B[43m \u001B[49m\u001B[43mfuncx\u001B[49m\u001B[43m,\u001B[49m\u001B[43m \u001B[49m\u001B[43mineq_constraint\u001B[49m\u001B[43m,\u001B[49m\u001B[43m \u001B[49m\u001B[43mdgx\u001B[49m\u001B[43m)\u001B[49m\n\u001B[0;32m     90\u001B[0m     alphak, w \u001B[38;5;241m=\u001B[39m linesearch(func, funcx, ineq_constraint, dgx, Xk, sk, muk1, w)\n\u001B[0;32m     91\u001B[0m     Xk \u001B[38;5;241m=\u001B[39m Xk \u001B[38;5;241m+\u001B[39m alphak\u001B[38;5;241m*\u001B[39msk\n",
      "File \u001B[1;32m~\\PycharmProjects\\MAE598\\Homework 05\\myQP.py:16\u001B[0m, in \u001B[0;36mmyQP\u001B[1;34m(x, W, df, g, dg)\u001B[0m\n\u001B[0;32m     14\u001B[0m \u001B[38;5;28;01mif\u001B[39;00m \u001B[38;5;28mlen\u001B[39m(active) \u001B[38;5;241m==\u001B[39m \u001B[38;5;241m0\u001B[39m:\n\u001B[0;32m     15\u001B[0m     M \u001B[38;5;241m=\u001B[39m W\n\u001B[1;32m---> 16\u001B[0m     smu \u001B[38;5;241m=\u001B[39m \u001B[43mnp\u001B[49m\u001B[38;5;241;43m.\u001B[39;49m\u001B[43mmatmul\u001B[49m\u001B[43m(\u001B[49m\u001B[43mnp\u001B[49m\u001B[38;5;241;43m.\u001B[39;49m\u001B[43mlinalg\u001B[49m\u001B[38;5;241;43m.\u001B[39;49m\u001B[43minv\u001B[49m\u001B[43m(\u001B[49m\u001B[43mM\u001B[49m\u001B[43m)\u001B[49m\u001B[43m,\u001B[49m\u001B[43m \u001B[49m\u001B[38;5;241;43m-\u001B[39;49m\u001B[43mc\u001B[49m\u001B[43m)\u001B[49m\n\u001B[0;32m     17\u001B[0m     s \u001B[38;5;241m=\u001B[39m smu[:\u001B[38;5;28mlen\u001B[39m(x), :]\n\u001B[0;32m     18\u001B[0m     mu \u001B[38;5;241m=\u001B[39m []\n",
      "\u001B[1;31mValueError\u001B[0m: matmul: Input operand 1 has a mismatch in its core dimension 0, with gufunc signature (n?,k),(k,m?)->(n?,m?) (size 1 is different from 2)"
     ]
    }
   ],
   "source": [
    "import numpy as np\n",
    "\n",
    "# Initialization for SQP\n",
    "Xk = np.array([[1],[1]])\n",
    "muk = np.zeros((2, 1))\n",
    "W = np.identity(2)\n",
    "w = np.zeros((2, 1))\n",
    "k = 0\n",
    "eps_term = 10e-3\n",
    "counter = 0\n",
    "\n",
    "# Function to be minimized\n",
    "def func(X):\n",
    "    x1 = X[0].reshape(-1, 1)\n",
    "    x2 = X[1].reshape(-1, 1)\n",
    "    f = x1**2 + (x2 - 3)**2\n",
    "    farray = np.array([[f]])\n",
    "    return farray\n",
    "\n",
    "def funcx(X):\n",
    "    x1 = X[0].reshape(-1, 1)\n",
    "    x2 = X[1].reshape(-1, 1)\n",
    "    fx = np.vstack((2 * x1, 2 * (x2 - 3)))\n",
    "    return fx\n",
    "\n",
    "def ineq_constraint(X):\n",
    "    x1 = X[0].reshape(-1, 1)\n",
    "    x2 = X[1].reshape(-1, 1)\n",
    "    g = np.vstack((x2**2 - 2 * x1, (x2 -1)**2 + 5 * x1 - 15))\n",
    "    return g\n",
    "\n",
    "def dgx(X):\n",
    "    x1 = X[0].reshape(-1, 1)\n",
    "    x2 = X[1].reshape(-1, 1)\n",
    "    dg_x = np.vstack((np.hstack((np.array([[-2]]), 2 * x2)), np.hstack((np.array([[5]]), 2 * (x2 -1)))))\n",
    "    return dg_x\n",
    "\n",
    "def del_lagrangian(X, mu):\n",
    "    x1 = X[0].reshape(-1, 1)\n",
    "    x2 = X[1].reshape(-1, 1)\n",
    "    delLx = np.hstack(((2 * x1), (2 * (x2 -3)))) + np.matmul(np.transpose(mu), np.vstack((np.hstack((np.array([[-2]]), 2*x1)),np.hstack((np.array([[5]]), 2*(x2 -1))))))\n",
    "    delLmu = np.hstack((x2**2 - 2 * x1, (x2 - 1)**2 + 5 * x1 - 15))\n",
    "    return delLx, delLmu\n",
    "\n",
    "def linesearch(f, df, g, dg, x, s, mu_old, w_old):\n",
    "    t = 0.2\n",
    "    b = 0.8\n",
    "    a = 1\n",
    "\n",
    "    D = s\n",
    "\n",
    "    w = max(abs(mu_old), 0.5 * (w_old + abs(mu_old)))\n",
    "    counter = 0\n",
    "    while counter < 100:\n",
    "        f_a = f(x + a * D) + np.matmul(np.transpose(w), abs(min(0, -g(x + a * D))))\n",
    "\n",
    "        f0 = f(x) + np.matmul(np.transpose(w), abs(min(0, -g(x))))\n",
    "        boolean = max(0, g(x)) > 0\n",
    "        dmaxg = np.zeros(len(boolean))\n",
    "        dmaxg0 = np.matmul(dg(x), D)\n",
    "        dmaxg[boolean] = dmaxg0[boolean]\n",
    "        df0 = np.matmul(np.transpose(df(x)), D) + np.matmul(np.transpose(w), dmaxg)\n",
    "        phi_a = f0 + t * a * df0\n",
    "\n",
    "        if f_a < phi_a:\n",
    "            return a, w\n",
    "        else:\n",
    "            a = a * b\n",
    "            counter += 1\n",
    "\n",
    "def BFGS(W, dx, X, df):\n",
    "    y = df(X) - df(X - dx)\n",
    "    Q = np.matmul(np.matmul(dx.T, W), dx)\n",
    "    if np.matmul(dx.T, y) >= 0.2 * Q:\n",
    "        theta = 1\n",
    "    else:\n",
    "        0.8 * Q / (Q - np.matmul(dx.T, y))\n",
    "\n",
    "    y = theta * y + (1 - theta) * np.matmul(W, dx)\n",
    "    W = W + np.matmul(y, y.T) / np.matmul(y.T, dx) - np.matmul(np.matmul(W, dx), np.matmul(dx.T, W))\n",
    "    return W\n",
    "\n",
    "from myQP import myQP\n",
    "\n",
    "[delx_lagrange, delmu_lagrange] = del_lagrangian(Xk, muk)\n",
    "\n",
    "while np.linalg.norm(delx_lagrange) > eps_term and counter < 100:\n",
    "    [sk, muk1] = myQP(Xk, W, funcx, ineq_constraint, dgx)\n",
    "    alphak, w = linesearch(func, funcx, ineq_constraint, dgx, Xk, sk, muk1, w)\n",
    "    Xk = Xk + alphak*sk\n",
    "    W = BFGS(W, alphak*sk, Xk, funcx)\n",
    "    [delx_lagrange, delmu_lagrange] = del_lagrangian(Xk, muk1)\n",
    "\n",
    "print(Xk)\n"
   ]
  },
  {
   "cell_type": "code",
   "execution_count": null,
   "outputs": [],
   "source": [],
   "metadata": {
    "collapsed": false
   }
  }
 ],
 "metadata": {
  "kernelspec": {
   "display_name": "Python 3",
   "language": "python",
   "name": "python3"
  },
  "language_info": {
   "codemirror_mode": {
    "name": "ipython",
    "version": 2
   },
   "file_extension": ".py",
   "mimetype": "text/x-python",
   "name": "python",
   "nbconvert_exporter": "python",
   "pygments_lexer": "ipython2",
   "version": "2.7.6"
  }
 },
 "nbformat": 4,
 "nbformat_minor": 0
}
