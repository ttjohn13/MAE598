{
 "cells": [
  {
   "cell_type": "markdown",
   "source": [
    "# Homework 1\n",
    "\n",
    "## Problem 1\n",
    " optimization of the function $(x_1 - x_2)^2 + (x_2 + x_3 -2)^2 + (x_4 -1)^2 + (x_5 -1)^2$"
   ],
   "metadata": {
    "collapsed": false,
    "pycharm": {
     "name": "#%% md\n"
    }
   }
  },
  {
   "cell_type": "code",
   "execution_count": 16,
   "outputs": [],
   "source": [
    "import numpy as np\n",
    "def eq1(x):\n",
    "    return (x[0] - x[1])**2 + (x[1] + x[2] -2)**2 + (x[3] -1)**2 + (x[4] -1)**2\n",
    "\n"
   ],
   "metadata": {
    "collapsed": false,
    "pycharm": {
     "name": "#%%\n"
    }
   }
  },
  {
   "cell_type": "markdown",
   "source": [
    "All X must be within the bounds of -10 and 10, This can be done using scipy.optimize bounds function which requires each bound to be defined in a matrix form.\n",
    "$\\begin{bmatrix} -10\\\\ -10\\\\ -10\\\\ -10\\\\ -10\\\\ \\end{bmatrix} \\leq x \\leq \\begin{bmatrix} 10\\\\ 10\\\\ 10\\\\ 10\\\\ 10\\\\ \\end{bmatrix}$"
   ],
   "metadata": {
    "collapsed": false,
    "pycharm": {
     "name": "#%% md\n"
    }
   }
  },
  {
   "cell_type": "code",
   "execution_count": 17,
   "outputs": [],
   "source": [
    "\n",
    "from scipy.optimize import Bounds\n",
    "bounds = Bounds(-10, 10)\n"
   ],
   "metadata": {
    "collapsed": false,
    "pycharm": {
     "name": "#%%\n"
    }
   }
  },
  {
   "cell_type": "markdown",
   "source": [
    "There are also 3 linear constraints as follows\n",
    "$ x_1 + 3 x_2 = 0$\n",
    "$ x_3 + x_4 - 2 x_5 = 0$\n",
    "$ x_2 - x_5 = 0$\n"
   ],
   "metadata": {
    "collapsed": false,
    "pycharm": {
     "name": "#%% md\n"
    }
   }
  },
  {
   "cell_type": "code",
   "execution_count": 18,
   "outputs": [
    {
     "name": "stdout",
     "output_type": "stream",
     "text": [
      "`xtol` termination condition is satisfied.\n",
      "Number of iterations: 54, function evaluations: 420, CG iterations: 69, optimality: 3.37e-08, constraint violation: 5.55e-17, execution time: 0.07 s.\n",
      "[-0.48837208  0.16279069  0.58139534 -0.25581396 -0.16279069]\n"
     ]
    },
    {
     "name": "stderr",
     "output_type": "stream",
     "text": [
      "C:\\Users\\trevo\\PycharmProjects\\pythonProject\\venv\\lib\\site-packages\\scipy\\optimize\\_hessian_update_strategy.py:182: UserWarning: delta_grad == 0.0. Check if the approximated function is linear. If the function is linear better results can be obtained by defining the Hessian as zero instead of using quasi-Newton approximations.\n",
      "  warn('delta_grad == 0.0. Check if the approximated '\n"
     ]
    }
   ],
   "source": [
    "from scipy.optimize import LinearConstraint\n",
    "linear_constraint = LinearConstraint([[1, 3, 0, 0, 0],[0, 0, 1, 1, 2],[0, 1, 0, 0, 1]], [0, 0, 0],[0, 0,0])\n",
    "from scipy.optimize import minimize\n",
    "x0 = np.array([5, 1, -2, -4, 1])\n",
    "res = minimize(eq1, x0,method='trust-constr', constraints= linear_constraint, options={'verbose':1}, bounds=bounds )\n",
    "print(res.x)\n"
   ],
   "metadata": {
    "collapsed": false,
    "pycharm": {
     "name": "#%%\n"
    }
   }
  },
  {
   "cell_type": "markdown",
   "source": [
    "With Initial values of: [3, -1, -1, -1, -1]\n",
    "The minimum values are: [-0.4883721   0.1627907   0.58139533 -0.25581393 -0.1627907 ]\n",
    "With Initial values of: [5, 1, -2, -4, 1]\n",
    "The minimum values are: [-0.48837208  0.16279069  0.58139534 -0.25581396 -0.16279069]\n",
    "Taking a look at this, a different guess did not significantly change independent values for the minimized solution\n"
   ],
   "metadata": {
    "collapsed": false,
    "pycharm": {
     "name": "#%% md\n"
    }
   }
  },
  {
   "cell_type": "markdown",
   "source": [
    "## Problem 2\n",
    "x and b $\\in \\mathbb{R}^n$ be vectors and A $\\in \\mathbb{R}^{n \\times n}$ be a square matrix. Define\n",
    " $ f: \\mathbb{R}^n \\rightarrow \\mathbb{R}$  as $ f(x) = b^Tx + x^T Ax$\n",
    "a) What is the gradient and Hessian of f(x) with respect to x\n",
    "$g(x) = b + 2Ax$\n",
    "$H(x) = 2A$\n",
    "\n",
    "b) Derive the first and second order Taylor's approximations of of $f(x)$ at $x=0$. Are the approximations exact?\n",
    "First Order:\n",
    "$f(x) = f(x_0) + \\nabla f|^T_{x_0}(x-x_0)$\n",
    "$f(x) = 0 + b^T(x)$\n",
    "$f(x) =b^T(x)$\n",
    "This is not an exact approximation. $f(x)$ is a second order polynomial so a first order approximation cannot be exact.\n",
    "\n",
    "Second Order:\n",
    "$f(x) = f(x_0) + \\nabla f|^T_{x_0}(x-x_0) + \\frac{1}{2}(x-x_0)^TH|_{x_0}(x-x_0)$\n",
    "$f(x) = 0 +b^Tx + 2Ax$\n",
    "$f(x) = b^Tx + 2Ax$\n",
    "This is an exact approximation. The second order approximation can perfectly capture a second order polynomial. It should also be noted that the approximation has the exact same formula as the original function showing that it is also equivalent.\n",
    "\n",
    "c) What are the necessary and sufficient conditions for A to positive definite?\n",
    "For A to be positive definite, all eigen values of A must be positive\n",
    "\n",
    "d) What are the necessary and sufficient conditions for A to have full rank?\n",
    "For a matrix to have full rank, each row is linearly independent. Each column is also independent. This can only happen if the matrix has a non-zero determinant. A would not be singular.\n",
    "\n",
    "e)If there exists $y \\in \\mathbb{R}^n \\ $ and $y \\neq 0 \\ $ such that $A^Ty = 0 \\ $ then what are the conditions on $ b \\ for \\ Ax=b \\ $ to have a solution for $x$?\n",
    "Since $A^Ty = 0 \\ $ and $ y \\neq 0 \\ $ , y must be orthogonal to A. Oppositely b must be within the same space as A inorder for $Ax=b$. This means that b is in the space of A and is perpendicular to y"
   ],
   "metadata": {
    "collapsed": false,
    "pycharm": {
     "name": "#%% md\n"
    }
   }
  },
  {
   "cell_type": "markdown",
   "source": [
    "## Problem 3\n",
    "Stigler Diet Problem\n",
    "$ \\imath = 1,2,...,N \\ $is all the different foods at the store\n",
    "$ \\jmath = 1,2,...,M \\ $is all nutrients in a food\n",
    "$ a_{\\imath \\jmath} \\ $ is the quantity of nutrition type $\\jmath \\ $ in each food $\\imath \\ $\n",
    "$ c_\\imath \\ $ is the unit price of food type $\\imath \\ $ and $b_\\jmath \\ $ is the necessary quantity of nutrition type $\\jmath \\ $ for a month.\n",
    "x is a column vector of the quantity of each food bought\n",
    "\n",
    "minimize: $c^Tx$ <br>\n",
    "subject to: $a^Tx = b$\n",
    "<nbtab>$ 0 \\leq x$\n",
    "\n"
   ],
   "metadata": {
    "collapsed": false,
    "pycharm": {
     "name": "#%% md\n"
    }
   }
  },
  {
   "cell_type": "code",
   "execution_count": 18,
   "outputs": [],
   "source": [],
   "metadata": {
    "collapsed": false,
    "pycharm": {
     "name": "#%%\n"
    }
   }
  }
 ],
 "metadata": {
  "kernelspec": {
   "display_name": "Python 3",
   "language": "python",
   "name": "python3"
  },
  "language_info": {
   "codemirror_mode": {
    "name": "ipython",
    "version": 2
   },
   "file_extension": ".py",
   "mimetype": "text/x-python",
   "name": "python",
   "nbconvert_exporter": "python",
   "pygments_lexer": "ipython2",
   "version": "2.7.6"
  }
 },
 "nbformat": 4,
 "nbformat_minor": 0
}