{
 "cells": [
  {
   "cell_type": "markdown",
   "source": [
    "Problem 1: optimization of the function $(x_1 - x_2)^2 + (x_2 + x_3 -2)^2 + (x_4 -1)^2 + (x_5 -1)^2$"
   ],
   "metadata": {
    "collapsed": false,
    "pycharm": {
     "name": "#%% md\n"
    }
   }
  },
  {
   "cell_type": "code",
   "execution_count": 63,
   "outputs": [],
   "source": [
    "import numpy as np\n",
    "def eq1(x):\n",
    "    return (x[0] - x[1])**2 + (x[1] + x[2] -2)**2 + (x[3] -1)**2 + (x[4] -1)**2\n",
    "\n"
   ],
   "metadata": {
    "collapsed": false,
    "pycharm": {
     "name": "#%%\n"
    }
   }
  },
  {
   "cell_type": "markdown",
   "source": [
    "All X must be within the bounds of -10 and 10, This can be done using scipy.optimize bounds function which requires each bound to be defined in a matrix form.\n",
    "$\\begin{bmatrix} -10\\\\ -10\\\\ -10\\\\ -10\\\\ -10\\\\ \\end{bmatrix} \\leq x \\leq \\begin{bmatrix} 10\\\\ 10\\\\ 10\\\\ 10\\\\ 10\\\\ \\end{bmatrix}$"
   ],
   "metadata": {
    "collapsed": false,
    "pycharm": {
     "name": "#%% md\n"
    }
   }
  },
  {
   "cell_type": "code",
   "execution_count": 64,
   "outputs": [],
   "source": [
    "\n",
    "from scipy.optimize import Bounds\n",
    "bounds = Bounds(-10, 10)\n"
   ],
   "metadata": {
    "collapsed": false,
    "pycharm": {
     "name": "#%%\n"
    }
   }
  },
  {
   "cell_type": "markdown",
   "source": [
    "There are also 3 linear constraints as follows\n",
    "$ x_1 + 3 x_2 = 0$\n",
    "$ x_3 + x_4 - 2 x_5 = 0$\n",
    "$ x_2 - x_5 = 0$\n"
   ],
   "metadata": {
    "collapsed": false,
    "pycharm": {
     "name": "#%% md\n"
    }
   }
  },
  {
   "cell_type": "code",
   "execution_count": 65,
   "outputs": [
    {
     "name": "stdout",
     "output_type": "stream",
     "text": [
      "`xtol` termination condition is satisfied.\n",
      "Number of iterations: 56, function evaluations: 426, CG iterations: 57, optimality: 6.74e-08, constraint violation: 5.55e-17, execution time: 0.068 s.\n",
      "[-0.4883721   0.1627907   0.58139533 -0.25581393 -0.1627907 ]\n"
     ]
    },
    {
     "name": "stderr",
     "output_type": "stream",
     "text": [
      "C:\\Users\\trevo\\PycharmProjects\\pythonProject\\venv\\lib\\site-packages\\scipy\\optimize\\_hessian_update_strategy.py:182: UserWarning: delta_grad == 0.0. Check if the approximated function is linear. If the function is linear better results can be obtained by defining the Hessian as zero instead of using quasi-Newton approximations.\n",
      "  warn('delta_grad == 0.0. Check if the approximated '\n"
     ]
    }
   ],
   "source": [
    "from scipy.optimize import LinearConstraint\n",
    "linear_constraint = LinearConstraint([[1, 3, 0, 0, 0],[0, 0, 1, 1, 2],[0, 1, 0, 0, 1]], [0, 0, 0],[0, 0,0])\n",
    "from scipy.optimize import SR1\n",
    "from scipy.optimize import minimize\n",
    "x0 = np.array([3, -1, -1, -1, -1])\n",
    "res = minimize(eq1, x0,method='trust-constr', constraints= linear_constraint, options={'verbose':1}, bounds=bounds )\n",
    "print(res.x)\n"
   ],
   "metadata": {
    "collapsed": false,
    "pycharm": {
     "name": "#%%\n"
    }
   }
  },
  {
   "cell_type": "code",
   "execution_count": 66,
   "outputs": [
    {
     "name": "stdout",
     "output_type": "stream",
     "text": [
      "`gtol` termination condition is satisfied.\n",
      "Number of iterations: 12, function evaluations: 24, CG iterations: 7, optimality: 4.44e-09, constraint violation: 0.00e+00, execution time: 0.015 s.\n"
     ]
    }
   ],
   "source": [
    "def rosen(x):\n",
    "    \"\"\"The Rosenbrock function\"\"\"\n",
    "    return sum(100.0*(x[1:]-x[:-1]**2.0)**2.0 + (1-x[:-1])**2.0)\n",
    "from scipy.optimize import Bounds\n",
    "bounds = Bounds([0, -0.5], [1.0, 2.0])\n",
    "linear_constraint = LinearConstraint([[1, 2], [2, 1]], [-np.inf, 1], [1, 1])\n",
    "def cons_f(x):\n",
    "    return [x[0]**2 + x[1], x[0]**2 - x[1]]\n",
    "def cons_J(x):\n",
    "    return [[2*x[0], 1], [2*x[0], -1]]\n",
    "def cons_H(x, v):\n",
    "    return v[0]*np.array([[2, 0], [0, 0]]) + v[1]*np.array([[2, 0], [0, 0]])\n",
    "from scipy.optimize import NonlinearConstraint\n",
    "nonlinear_constraint = NonlinearConstraint(cons_f, -np.inf, 1, jac=cons_J, hess=cons_H)\n",
    "from scipy.optimize import SR1\n",
    "x0 = np.array([0.5, 0])\n",
    "res = minimize(rosen, x0, method='trust-constr',  jac=\"2-point\", hess=SR1(), constraints=[linear_constraint, nonlinear_constraint],  options={'verbose': 1}, bounds=bounds)\n",
    "\n"
   ],
   "metadata": {
    "collapsed": false,
    "pycharm": {
     "name": "#%%\n"
    }
   }
  },
  {
   "cell_type": "code",
   "execution_count": 66,
   "outputs": [],
   "source": [],
   "metadata": {
    "collapsed": false,
    "pycharm": {
     "name": "#%%\n"
    }
   }
  }
 ],
 "metadata": {
  "kernelspec": {
   "display_name": "Python 3",
   "language": "python",
   "name": "python3"
  },
  "language_info": {
   "codemirror_mode": {
    "name": "ipython",
    "version": 2
   },
   "file_extension": ".py",
   "mimetype": "text/x-python",
   "name": "python",
   "nbconvert_exporter": "python",
   "pygments_lexer": "ipython2",
   "version": "2.7.6"
  }
 },
 "nbformat": 4,
 "nbformat_minor": 0
}