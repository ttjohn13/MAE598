{
 "cells": [
  {
   "cell_type": "markdown",
   "source": [
    "# Homework 3\n",
    "## Problem 1\n",
    "Formulation of the problem\n",
    "\\begin{equation*}\n",
    "\\begin{aligned}\n",
    "& \\underset{\\text{A}_{12},\\text{A}_{21}}{\\text{min}}\n",
    "& & \\sum (P_{\\text{predicted}} - P)^2 \\\\\n",
    "\\end{aligned}\n",
    "\\end{equation*}"
   ],
   "metadata": {
    "collapsed": false
   }
  },
  {
   "cell_type": "code",
   "execution_count": null,
   "outputs": [],
   "source": [
    "import numpy as np\n",
    "import torch\n",
    "from torch.autograd import Variable\n",
    "import matplotlib.pyplot as plt\n",
    "\n",
    "X1 = np.arange(0, 1.1, 0.1)\n",
    "X2 = np.flip(X1).copy()\n",
    "X1 = torch.tensor(X1, requires_grad=False)\n",
    "X2 = torch.tensor(X2, requires_grad=False)\n",
    "a = np.array([[8.07131, 1730.63, 233.426], [7.43155, 1554.679, 240.337]])\n",
    "T = 20\n",
    "p_water = 10 ** (a[0, 0] - a[0, 1] / (T + a[0, 2]))\n",
    "p_dioxane = 10 ** (a[1, 0] - a[1, 1] / (T + a[1, 2]))\n",
    "p_data = np.array([[28.1, 34.4, 36.7, 36.9, 36.8, 36.7, 36.5, 35.4, 32.9, 27.7, 17.5]])\n",
    "\n",
    "p_data = torch.tensor(p_data, requires_grad=False)\n",
    "\n",
    "A = Variable(torch.tensor([1.0, 1.0]), requires_grad=True)\n",
    "\n",
    "\n",
    "def pressure(A, x1, x2, p_w, p_dio):\n",
    "    pressure_predicted = x1 * torch.exp(A[0] * (A[1] * x2 / (A[0] * x1 + A[1] * x2)) ** 2) * p_w + \\\n",
    "                         x2 * torch.exp(A[1] * (A[0] * x1 / (A[0] * x1 + A[1] * x2)) ** 2) * p_dio\n",
    "    return pressure_predicted\n",
    "\n",
    "\n",
    "def loss(predicted_pres, measured_pressure):\n",
    "    error = (predicted_pres - measured_pressure) ** 2\n",
    "    errorsum = error.sum()\n",
    "    return errorsum\n",
    "\n",
    "\n",
    "def inexact_line_search(function, gradient, initialpoint, slope):\n",
    "    alpha = 1\n",
    "    counterlinesearch = 0\n",
    "    func_eval = function(pressure((initialpoint - alpha * gradient), X1, X2, p_water, p_dioxane), p_data)\n",
    "    transposedgrad = torch.transpose(gradient, -1, 0)\n",
    "    phi_eval = function(pressure(initialpoint, X1, X2, p_water, p_dioxane), p_data) - slope * torch.matmul(transposedgrad, gradient) * alpha\n",
    "    while func_eval> phi_eval and counterlinesearch < 100:\n",
    "        alpha = alpha / 2\n",
    "        counterlinesearch += 1\n",
    "        func_eval = function(pressure((initialpoint - alpha * gradient), X1, X2, p_water, p_dioxane), p_data)\n",
    "        transposedgrad = torch.transpose(gradient, -1, 0)\n",
    "        phi_eval = function(pressure(initialpoint, X1, X2, p_water, p_dioxane), p_data) - slope * torch.matmul(\n",
    "            transposedgrad, gradient) * alpha\n",
    "    xnew = initialpoint - alpha * gradient\n",
    "    return alpha\n",
    "\n",
    "\n",
    "\n",
    "tollerance = 1e-3\n",
    "counter = 0\n",
    "keepgoing = True\n",
    "\n",
    "while counter < 100 and keepgoing == True:\n",
    "    predicted = pressure(A, X1, X2, p_water, p_dioxane)\n",
    "    squarederror = loss(predicted, p_data)\n",
    "\n",
    "    squarederror.backward()\n",
    "    alpha = inexact_line_search(loss, A.grad, A, 0.5)\n",
    "    gradientnorm = torch.norm(A.grad)\n",
    "    if gradientnorm < tollerance:\n",
    "        keepgoing = False\n",
    "    with torch.no_grad():\n",
    "        A -= alpha * A.grad\n",
    "\n",
    "        A.grad.zero_()\n",
    "    counter += 1\n",
    "\n",
    "print('estimation A12 and A21 is:', A)\n",
    "print('final loss is:', squarederror.data.numpy())\n",
    "\n",
    "x1predicted = np.linspace(0, 1, 100)\n",
    "x2predicted = np.flip(x1predicted).copy()\n",
    "ypredicted = pressure( A, torch.tensor(x1predicted), torch.tensor(x2predicted), p_water, p_dioxane)\n",
    "ypredicted = ypredicted.detach().numpy()\n",
    "\n",
    "fig, ax = plt.subplots()\n",
    "ax.plot(x1predicted, ypredicted)\n",
    "ax.scatter(X1.numpy(), p_data.numpy(), color='red')\n",
    "plt.ylabel('Pressure')\n",
    "plt.xlabel('Composition of Water')\n",
    "plt.show()\n",
    "\n"
   ],
   "metadata": {
    "collapsed": false,
    "pycharm": {
     "is_executing": true
    }
   }
  }
 ],
 "metadata": {
  "kernelspec": {
   "display_name": "Python 3",
   "language": "python",
   "name": "python3"
  },
  "language_info": {
   "codemirror_mode": {
    "name": "ipython",
    "version": 2
   },
   "file_extension": ".py",
   "mimetype": "text/x-python",
   "name": "python",
   "nbconvert_exporter": "python",
   "pygments_lexer": "ipython2",
   "version": "2.7.6"
  }
 },
 "nbformat": 4,
 "nbformat_minor": 0
}
