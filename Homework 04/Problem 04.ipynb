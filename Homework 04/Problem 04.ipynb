{
 "cells": [
  {
   "cell_type": "markdown",
   "source": [
    "## Problem 04\n",
    "Find the solution to: <br>\n",
    "\\begin{equation}\n",
    "\\begin{aligned}\n",
    "& \\underset{X}{\\text{min}}\n",
    "& & f = x_1^2 + x_2^2 + x^2_3 \\\\\n",
    "& \\text{subject to}\n",
    "& & h_1 = \\frac{x_1^2}{4} + \\frac{x_2^2}{5} + \\frac{x_3^2}{25} - 1 = 0 \\\\\n",
    "& & & h_2 = x_1 + x_2 - x_3 = 0\n",
    "\\end{aligned}\n",
    "\\end{equation}\n",
    "\n",
    "With two contraints and three variables, there will be two state variables and one driving variable. I will make $x_1\\ $ my driving variable and $x_2\\ $ and $x_3\\ $ my state variables"
   ],
   "metadata": {
    "collapsed": false
   }
  },
  {
   "cell_type": "code",
   "execution_count": 3,
   "outputs": [
    {
     "name": "stdout",
     "output_type": "stream",
     "text": [
      "[-1.89470344 -0.89470344  1.        ]\n",
      "[-1.89470344 -0.89470344  1.        ]\n",
      "[-1.89470344 -0.89470344  1.        ]\n",
      "[-1.89470344 -0.89470344  1.        ]\n",
      "[-1.89470344 -0.89470344  1.        ]\n",
      "[-1.89470344 -0.89470344  1.        ]\n",
      "[-1.89470344 -0.89470344  1.        ]\n",
      "[-1.89470344 -0.89470344  1.        ]\n",
      "[-1.89470344 -0.89470344  1.        ]\n",
      "[-1.89470344 -0.89470344  1.        ]\n",
      "[-1.89470344 -0.89470344  1.        ]\n",
      "[-1.89470344 -0.89470344  1.        ]\n",
      "[-1.89470344 -0.89470344  1.        ]\n",
      "[-1.89470344 -0.89470344  1.        ]\n",
      "[-1.89470344 -0.89470344  1.        ]\n"
     ]
    },
    {
     "name": "stderr",
     "output_type": "stream",
     "text": [
      "C:\\Users\\trevo\\AppData\\Local\\Temp\\ipykernel_26576\\3466986707.py:58: VisibleDeprecationWarning: Creating an ndarray from ragged nested sequences (which is a list-or-tuple of lists-or-tuples-or ndarrays with different lengths or shapes) is deprecated. If you meant to do this, you must specify 'dtype=object' when creating the ndarray.\n",
      "  h = confunc(np.array([x2, x3, x1]))\n"
     ]
    }
   ],
   "source": [
    "import numpy as np\n",
    "x1_0 = 1\n",
    "x2_0 = -1.89470344\n",
    "x3_0 = -0.89470344\n",
    "X = np.array([x2_0, x3_0, x1_0])\n",
    "k = 0\n",
    "eps = 10**-3\n",
    "sk = np.array([X[0], X[1]])\n",
    "dk = np.array([X[2]])\n",
    "dfdx1 = np.array([2 * X[2]])\n",
    "dfds  = np.array([2 * X[0], 2 * X[1]])\n",
    "dhds  = np.array([[2 / 5 * X[0], 2 / 25 * X[1]],\n",
    "                  [1, -1]])\n",
    "dhdd  = np.array([[1 / 2 * X[2]], [1]])\n",
    "dfdd  = dfdx1 + np.matmul(np.matmul(dfds, np.linalg.inv(dhds)), dhdd)\n",
    "\n",
    "def minfunc(X):\n",
    "    x1 = X[2]\n",
    "    x2 = X[0]\n",
    "    x3 = X[1]\n",
    "    return x1**2 + x2**2 + x3**2\n",
    "\n",
    "def confunc(X):\n",
    "    x1 = X[2]\n",
    "    x2 = X[0]\n",
    "    x3 = X[1]\n",
    "    h1 = x1**2 / 4 + x2**2 / 5 + x3**2 /25 - 1\n",
    "    h2 = x1 + x2 -x3\n",
    "    return np.array([[h1], [h2]])\n",
    "\n",
    "def linesearch(dfdd, sk, dk, dhds_line, dhdd_line):\n",
    "    alpha = 1\n",
    "    b = 0.3\n",
    "    t = 0.3\n",
    "    counter = 0\n",
    "    dhds_inv = np.linalg.inv(dhds_line)\n",
    "    skstep_matrix = np.transpose(np.matmul(np.matmul(dhds_inv, dhdd_line), dfdd))\n",
    "    sk1 = sk + alpha * skstep_matrix\n",
    "    dk1 = dk - alpha * dfdd\n",
    "    X_step = np.concatenate((sk1, dk1), axis=None)\n",
    "    f = minfunc(X_step)\n",
    "    phi = minfunc(np.concatenate((sk, dk), axis=None)) - alpha * t * dfdd\n",
    "    while f > phi and counter<30:\n",
    "        alpha = b * alpha\n",
    "        sk1 = sk + alpha * skstep_matrix\n",
    "        dk1 = dk - alpha * dfdd\n",
    "        X_step = np.concatenate((sk1, dk1), axis=None)\n",
    "        f = minfunc(X_step)\n",
    "        phi = minfunc(np.concatenate((sk, dk), axis=None)) - alpha * t * dfdd\n",
    "        counter += 1\n",
    "    return alpha, skstep_matrix\n",
    "\n",
    "def solvefunc(driving, state_approx):\n",
    "    c = 0\n",
    "    x1 = driving\n",
    "    x2 = state_approx[0]\n",
    "    x3 = state_approx[1]\n",
    "    h = confunc(np.array([x2, x3, x1]))\n",
    "    while np.linalg.norm(h) > 10**-3 and c<30:\n",
    "        sktran = np.array([[x2], [x3]]) - np.matmul(np.linalg.inv(np.array([[2 / 5 * X[0], 2 / 25 * X[1]],\n",
    "                  [1, -1]])), confunc(np.array([x2, x3, x1])))\n",
    "        x2 = sktran[0]\n",
    "        x3 = sktran[1]\n",
    "        h = confunc(np.array([x2, x3, x1]))\n",
    "        c += 1\n",
    "    if c == 30:\n",
    "        print(\"Newton Method did not Converge\")\n",
    "    return np.array([x2, x3])\n",
    "\n",
    "while dfdd**2 > eps and k < 15:\n",
    "    alphak, stepmatrix= linesearch(dfdd, sk, dk, dhds, dhdd)\n",
    "    dk = dk - alphak * dfdd\n",
    "    sk_lin_approx = sk + alphak * stepmatrix\n",
    "    sk = solvefunc(dk, sk_lin_approx)\n",
    "    X = np.concatenate((sk, dk), axis=None)\n",
    "    dfdx1 = np.array([2 * X[2]])\n",
    "    dfds  = np.array([2 * X[0], 2 * X[1]])\n",
    "    dhds  = np.array([[2 / 5 * X[0], 2 / 25 * X[1]],\n",
    "                      [1, -1]])\n",
    "    dhdd  = np.array([[1 / 2 * X[2]], [1]])\n",
    "    dfdd  = dfdx1 + np.matmul(np.matmul(dfds, np.linalg.inv(dhds)), dhdd)\n",
    "    k += 1\n",
    "    print(X)"
   ],
   "metadata": {
    "collapsed": false
   }
  },
  {
   "cell_type": "code",
   "execution_count": null,
   "outputs": [],
   "source": [],
   "metadata": {
    "collapsed": false
   }
  }
 ],
 "metadata": {
  "kernelspec": {
   "display_name": "Python 3",
   "language": "python",
   "name": "python3"
  },
  "language_info": {
   "codemirror_mode": {
    "name": "ipython",
    "version": 2
   },
   "file_extension": ".py",
   "mimetype": "text/x-python",
   "name": "python",
   "nbconvert_exporter": "python",
   "pygments_lexer": "ipython2",
   "version": "2.7.6"
  }
 },
 "nbformat": 4,
 "nbformat_minor": 0
}
