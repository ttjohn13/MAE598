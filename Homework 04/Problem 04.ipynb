{
 "cells": [
  {
   "cell_type": "markdown",
   "source": [
    "## Problem 04\n",
    "Find the solution to: <br>\n",
    "\\begin{equation}\n",
    "\\begin{aligned}\n",
    "& \\underset{X}{\\text{min}}\n",
    "& & f = x_1^2 + x_2^2 + x^2_3 \\\\\n",
    "& \\text{subject to}\n",
    "& & h_1 = \\frac{x_1^2}{4} + \\frac{x_2^2}{5} + \\frac{x_3^2}{25} - 1 = 0 \\\\\n",
    "& & & h_2 = x_1 + x_2 - x_3 = 0\n",
    "\\end{aligned}\n",
    "\\end{equation}\n",
    "\n",
    "With two contraints and three variables, there will be two state variables and one driving variable. I will make $x_1\\ $ my driving variable and $x_2\\ $ and $x_3\\ $ my state variables"
   ],
   "metadata": {
    "collapsed": false
   }
  },
  {
   "cell_type": "code",
   "execution_count": 28,
   "outputs": [
    {
     "name": "stdout",
     "output_type": "stream",
     "text": [
      "[1.56401733 2.56090239 0.99688506] [0.12896516]\n",
      "[1.57384693 2.55912512 0.9852782 ] [0.17926598]\n",
      "[1.58733336 2.55647762 0.96914426] [0.24808734]\n",
      "[1.6457661  2.54048416 0.89471805] [0.54789197]\n",
      "[1.75898312 2.48933359 0.73035046] [1.12794199]\n",
      "[1.93137415 2.32334202 0.39196787] [2.04030253]\n",
      "Newton Method did not Converge\n",
      "[ 7.20246076e+02  7.56674200e+02  7.20025953e+02  7.56454077e+02\n",
      " -2.20122891e-01] [-609.74713499]\n"
     ]
    },
    {
     "ename": "ValueError",
     "evalue": "operands could not be broadcast together with shapes (4,) (2,) ",
     "output_type": "error",
     "traceback": [
      "\u001B[1;31m---------------------------------------------------------------------------\u001B[0m",
      "\u001B[1;31mValueError\u001B[0m                                Traceback (most recent call last)",
      "Cell \u001B[1;32mIn [28], line 76\u001B[0m\n\u001B[0;32m     73\u001B[0m     \u001B[38;5;28;01mreturn\u001B[39;00m skactual\n\u001B[0;32m     75\u001B[0m \u001B[38;5;28;01mwhile\u001B[39;00m dfdd\u001B[38;5;241m*\u001B[39m\u001B[38;5;241m*\u001B[39m\u001B[38;5;241m2\u001B[39m \u001B[38;5;241m>\u001B[39m eps \u001B[38;5;129;01mand\u001B[39;00m k \u001B[38;5;241m<\u001B[39m \u001B[38;5;241m30\u001B[39m:  \u001B[38;5;66;03m# solver loop\u001B[39;00m\n\u001B[1;32m---> 76\u001B[0m     alphak, stepmatrix\u001B[38;5;241m=\u001B[39m \u001B[43mlinesearch\u001B[49m\u001B[43m(\u001B[49m\u001B[43mdfdd\u001B[49m\u001B[43m,\u001B[49m\u001B[43m \u001B[49m\u001B[43msk\u001B[49m\u001B[43m,\u001B[49m\u001B[43m \u001B[49m\u001B[43mdk\u001B[49m\u001B[43m,\u001B[49m\u001B[43m \u001B[49m\u001B[43mdhds\u001B[49m\u001B[43m,\u001B[49m\u001B[43m \u001B[49m\u001B[43mdhdd\u001B[49m\u001B[43m)\u001B[49m\n\u001B[0;32m     77\u001B[0m     dk \u001B[38;5;241m=\u001B[39m dk \u001B[38;5;241m-\u001B[39m alphak \u001B[38;5;241m*\u001B[39m dfdd\n\u001B[0;32m     78\u001B[0m     sk_lin_approx \u001B[38;5;241m=\u001B[39m sk \u001B[38;5;241m+\u001B[39m alphak \u001B[38;5;241m*\u001B[39m stepmatrix\n",
      "Cell \u001B[1;32mIn [28], line 38\u001B[0m, in \u001B[0;36mlinesearch\u001B[1;34m(dfdd, sk, dk, dhds_line, dhdd_line)\u001B[0m\n\u001B[0;32m     36\u001B[0m dhds_inv \u001B[38;5;241m=\u001B[39m np\u001B[38;5;241m.\u001B[39mlinalg\u001B[38;5;241m.\u001B[39minv(dhds_line)  \u001B[38;5;66;03m# calculates inverse of dhds for function evaluation\u001B[39;00m\n\u001B[0;32m     37\u001B[0m skstep_matrix \u001B[38;5;241m=\u001B[39m np\u001B[38;5;241m.\u001B[39mtranspose(np\u001B[38;5;241m.\u001B[39mmatmul(np\u001B[38;5;241m.\u001B[39mmatmul(dhds_inv, dhdd_line), dfdd))\n\u001B[1;32m---> 38\u001B[0m sk1 \u001B[38;5;241m=\u001B[39m \u001B[43msk\u001B[49m\u001B[43m \u001B[49m\u001B[38;5;241;43m+\u001B[39;49m\u001B[43m \u001B[49m\u001B[43malpha\u001B[49m\u001B[43m \u001B[49m\u001B[38;5;241;43m*\u001B[39;49m\u001B[43m \u001B[49m\u001B[43mskstep_matrix\u001B[49m  \u001B[38;5;66;03m# state step\u001B[39;00m\n\u001B[0;32m     39\u001B[0m dk1 \u001B[38;5;241m=\u001B[39m dk \u001B[38;5;241m-\u001B[39m alpha \u001B[38;5;241m*\u001B[39m dfdd \u001B[38;5;66;03m# driving step\u001B[39;00m\n\u001B[0;32m     40\u001B[0m X_step \u001B[38;5;241m=\u001B[39m np\u001B[38;5;241m.\u001B[39mconcatenate((sk1, dk1), axis\u001B[38;5;241m=\u001B[39m\u001B[38;5;28;01mNone\u001B[39;00m)\n",
      "\u001B[1;31mValueError\u001B[0m: operands could not be broadcast together with shapes (4,) (2,) "
     ]
    }
   ],
   "source": [
    "import numpy as np\n",
    "x1_0 = 1                # initial driving condition\n",
    "x2_0 = 1.561370113      # initial state conditions\n",
    "x3_0 = 2.561370113\n",
    "X = np.array([x2_0, x3_0, x1_0])\n",
    "k = 0                   # initialize counter for solver\n",
    "eps = 10**-3            # minimum error for slope\n",
    "sk = np.array([X[0], X[1]])     # state variables\n",
    "dk = np.array([X[2]])           # driving variable\n",
    "dfdx1 = np.array([2 * X[2]])    # dfdd (partial)\n",
    "dfds  = np.array([2 * X[0], 2 * X[1]]) # dfds (partial)\n",
    "dhds  = np.array([[2 / 5 * X[0], 2 / 25 * X[1]],\n",
    "                  [1, -1]])\n",
    "dhdd  = np.array([[1 / 2 * X[2]], [1]])\n",
    "dfdd  = dfdx1 - np.matmul(np.matmul(dfds, np.linalg.inv(dhds)), dhdd) # non-linear dfdd\n",
    "\n",
    "def minfunc(X):  # calculation of function to be minimized\n",
    "    x1 = X[2]\n",
    "    x2 = X[0]\n",
    "    x3 = X[1]\n",
    "    return x1**2 + x2**2 + x3**2\n",
    "\n",
    "def confunc(X): # claclulation of constraint conditions\n",
    "    x1 = X[2]\n",
    "    x2 = X[0]\n",
    "    x3 = X[1]\n",
    "    h1 = x1**2 / 4 + x2**2 / 5 + x3**2 /25 - 1\n",
    "    h2 = x1 + x2 -x3\n",
    "    return np.array([[h1], [h2]])\n",
    "\n",
    "def linesearch(dfdd, sk, dk, dhds_line, dhdd_line):  #inexact line search\n",
    "    alpha = 1\n",
    "    b = 0.3\n",
    "    t = 0.1\n",
    "    counter = 0\n",
    "    dhds_inv = np.linalg.inv(dhds_line)  # calculates inverse of dhds for function evaluation\n",
    "    skstep_matrix = np.transpose(np.matmul(np.matmul(dhds_inv, dhdd_line), dfdd))\n",
    "    sk1 = sk + alpha * skstep_matrix  # state step\n",
    "    dk1 = dk - alpha * dfdd # driving step\n",
    "    X_step = np.concatenate((sk1, dk1), axis=None)\n",
    "    f = minfunc(X_step) # function analysis\n",
    "    phi = minfunc(np.concatenate((sk, dk), axis=None)) - alpha * t * (dfdd)**2 #phi analysis with step\n",
    "    while f > phi and counter<50:\n",
    "        alpha = b * alpha\n",
    "        sk1 = sk + alpha * skstep_matrix\n",
    "        dk1 = dk - alpha * dfdd\n",
    "        X_step = np.concatenate((sk1, dk1), axis=None)\n",
    "        f = minfunc(X_step)\n",
    "        phi = minfunc(np.concatenate((sk, dk), axis=None)) - alpha * t * (dfdd)**2\n",
    "        counter += 1\n",
    "    if counter == 50:\n",
    "        print(\"linesearch failed to converge\")\n",
    "    return alpha, skstep_matrix\n",
    "\n",
    "def solvefunc(driving, state_approx):  # Newton rhobson method for finding new state values\n",
    "    c = 0\n",
    "    x1 = driving\n",
    "    x2 = state_approx[0]\n",
    "    x3 = state_approx[1]\n",
    "    skactual = np.array([x2, x3])\n",
    "    Xpart = np.concatenate((state_approx, driving), axis=None)\n",
    "    h = confunc(Xpart)\n",
    "    while np.linalg.norm(h) > 10**-3 and c<30:\n",
    "        sktran = np.array([[x2], [x3]]) - np.matmul(np.linalg.inv(np.array([[2 / 5 * Xpart[0], 2 / 25 * Xpart[1]], [1, -1]])), confunc(Xpart))\n",
    "        x2 = sktran[0]\n",
    "        x3 = sktran[1]\n",
    "        skactual = np.concatenate((x2, x3), axis=None)\n",
    "        Xpart = np.concatenate((x2, x3, x1), axis=None)\n",
    "        h = confunc(Xpart)\n",
    "        c += 1\n",
    "    if c == 30:\n",
    "        print(\"Newton Method did not Converge\")\n",
    "    return skactual\n",
    "\n",
    "while dfdd**2 > eps and k < 30:  # solver loop\n",
    "    alphak, stepmatrix= linesearch(dfdd, sk, dk, dhds, dhdd)\n",
    "    dk = dk - alphak * dfdd\n",
    "    sk_lin_approx = sk + alphak * stepmatrix\n",
    "    sk = solvefunc(dk, sk_lin_approx)\n",
    "    X = np.concatenate((sk, dk), axis=None)\n",
    "    dfdx1 = np.array([2 * X[2]])\n",
    "    dfds  = np.array([2 * X[0], 2 * X[1]])\n",
    "    dhds  = np.array([[2 / 5 * X[0], 2 / 25 * X[1]],\n",
    "                      [1, -1]])\n",
    "    dhdd  = np.array([[1 / 2 * X[2]], [1]])\n",
    "    dfdd  = dfdx1 - np.matmul(np.matmul(dfds, np.linalg.inv(dhds)), dhdd)\n",
    "    k += 1\n",
    "    print(X, dfdd)\n",
    "\n",
    "print(\"x1 = \" + np.array2string(X[2]) + \"\\nx2 = \" + np.array2string(X[0]) + \"\\nx3 = \" + np.array2string(X[1]) + \"\\ndfdd = \" + np.array2string(dfdd))"
   ],
   "metadata": {
    "collapsed": false
   }
  },
  {
   "cell_type": "code",
   "execution_count": 2,
   "outputs": [],
   "source": [],
   "metadata": {
    "collapsed": false
   }
  }
 ],
 "metadata": {
  "kernelspec": {
   "display_name": "Python 3",
   "language": "python",
   "name": "python3"
  },
  "language_info": {
   "codemirror_mode": {
    "name": "ipython",
    "version": 2
   },
   "file_extension": ".py",
   "mimetype": "text/x-python",
   "name": "python",
   "nbconvert_exporter": "python",
   "pygments_lexer": "ipython2",
   "version": "2.7.6"
  }
 },
 "nbformat": 4,
 "nbformat_minor": 0
}
