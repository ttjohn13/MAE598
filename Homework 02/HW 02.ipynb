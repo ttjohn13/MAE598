{
 "cells": [
  {
   "cell_type": "markdown",
   "source": [
    "# Homework 2\n",
    "## problem 1\n",
    "Show that the stationary point (zero gradient) of the function <br>\n",
    "$ f(x_1,x_2) = 2x_1^2 -4x_1x_2 + 1.5x_2^2 + x_2 \\ $\n",
    "is a saddle (with indefinite Hessian).\n",
    "\n",
    "$ g(x_1,x_2) = \\begin{bmatrix} 4x_1 - 4x_2 \\\\ -4x_1 + 3x_2 + 1 \\end{bmatrix} $ <br>\n",
    "\n",
    "$ H(x_1,x_2) = \\begin{bmatrix} 4 & -4 \\\\ -4 & 3 \\end{bmatrix} $ <br>\n",
    "$ | H - \\lambda I | = 0 $ <br>\n",
    "$ \\begin{vmatrix} 4-\\lambda & -4 \\\\ -4 & 3-\\lambda \\end{vmatrix} = 0 = (4-\\lambda)(3-\\lambda) - (-4*-4)$\n",
    "$ = 12 - 7\\lambda + \\lambda^2 - 16 \\\\ \\quad \\lambda^2 - 7\\lambda - 4 = 0$\n",
    "$ \\lambda = 7.5311\\  ;\\ -0.5311$\n",
    "The Hessian of this function has both negative and positive eigen values. This means the Hessian is indefinite and the function has a saddle point. This saddle point occurs at (1,1). <br><br>\n",
    "\n",
    "Taylor Series expansion <br>\n",
    "$f(x_1,x_2) = f(1,1) + g|^T_{(1,1)}\\begin{bmatrix} x_1-1 \\\\ x_2-1\\end{bmatrix} + \\frac{1}{2} \\begin{bmatrix} x_1-1 \\\\ x_2-1\\end{bmatrix} ^T \\begin{bmatrix} 4 & -4 \\\\ -4 & 3\\end{bmatrix} \\begin{bmatrix} x_1-1 \\\\ x_2-1\\end{bmatrix} $ <br>\n",
    "g(X) evaluated at (1,1) is equal to zero so it drops out. Doing the vector multiplication:<br>\n",
    "$ f(x_1,x_2) - f(1,1) = \\frac{1}{2}  \\left( 4( \\partial x_1)^2 - 4 \\partial x_1 \\partial x_2 - 4\\partial x_1 \\partial x_2 + 3(\\partial x_2)^2 \\right) $\n",
    "Where $ \\partial x_i = x_i -1 \\ $ for $i=1,2 $ <br>\n",
    "The right hand side of the equation can be factored into:\n",
    "$ \\frac{1}{2} (2\\partial x_1 - 3\\partial x_2)(2\\partial x_1 - \\partial x_2) $\n",
    "The downward slopes occur when $ \\frac{1}{2} (2\\partial x_1 - 2\\partial x_2)(2\\partial x_1 - \\partial x_2) < 0$\n",
    "There is a downward slope when only one factor is negative.\n",
    "$ 2\\partial x_1 <\\partial x_2 \\quad 2\\partial x_1 < \\partial x_2 $ <br>\n",
    "so Any direction between vectors <3,2> and <1,2> or the negative counterparts has a downward slope."
   ],
   "metadata": {
    "collapsed": false,
    "pycharm": {
     "name": "#%% md\n"
    }
   }
  },
  {
   "cell_type": "markdown",
   "source": [
    "## Probelm 2\n",
    "Find the point in the plane $ x_1 + 2x_2+3x_2 = 1 \\ $ in $\\mathbb{R}^3\\ $ that is nearest to the point $(-1,0,1)^T\\ $ Is this a convex problem? <br><br>\n",
    "\n",
    "The distance formula can be squared to create a sum of squares. point $(-1,0,1)^T\\ $ is used in this formula as a point:\n",
    "\\begin{equation} distance^2 = (x_1 +1)^2 + (x_2)^2 + (x_3-1)^2\\end{equation} <br>\n",
    "This equation requires constraints in order to work. To make it an unconstrained problem, each x can be found in terms of the other x's. The equations are as follows:<br>\n",
    "$ x_1 = 1 - 2x_2 - 3x_3 \\\\ x_2 = \\frac{1}{2} - \\frac{1}{2}x_1 - \\frac{3}{2}x_3 \\\\ x_3 = \\frac{1}{3} - \\frac{1}{3}x_1 - \\frac{2}{3}x_2 $\n",
    "<br>\n",
    "These can then be plugged into the first equation to make the equation an unconstrained equation.\n",
    "\\begin{equation} (2 - 2x_2-3x_3)^2 + \\frac{1}{4}(1 - x_1 - 3x_3)^2 + \\frac{1}{9}(-2 -x_1 -2x_2)^2 \\end{equation}\n",
    "This function is a convex function. Because each squared term is a polynomial with a positive squared highest order term (when all multiplied out), each piece is concave up and the Hessian will be positive definite if I calculated it out."
   ],
   "metadata": {
    "collapsed": false,
    "pycharm": {
     "name": "#%% md\n"
    }
   }
  },
  {
   "cell_type": "code",
   "execution_count": null,
   "outputs": [],
   "source": [],
   "metadata": {
    "collapsed": false,
    "pycharm": {
     "name": "#%%\n"
    }
   }
  },
  {
   "cell_type": "markdown",
   "source": [
    "## Problem 3\n",
    "Prove that a hyperplane is a convex set\n",
    "A hyperplane can be defined using $ a^Tx = c \\ $ for $x \\in \\mathbb{R}^n\\ $ where a is the normal direction of the hyperplane and c is some constant.<br>\n",
    "$a^Tx = c \\ $ is a linear equation as it would multiply out as follows:\n",
    "\\begin{equation} a_1x_1 + a_2x_2 + ... +a_nx_n = c \\end{equation} this is a linear equation and linear equations contain convex sets.\n"
   ],
   "metadata": {
    "collapsed": false,
    "pycharm": {
     "name": "#%% md\n"
    }
   }
  },
  {
   "cell_type": "code",
   "execution_count": null,
   "outputs": [],
   "source": [],
   "metadata": {
    "collapsed": false,
    "pycharm": {
     "name": "#%%\n"
    }
   }
  }
 ],
 "metadata": {
  "kernelspec": {
   "display_name": "Python 3",
   "language": "python",
   "name": "python3"
  },
  "language_info": {
   "codemirror_mode": {
    "name": "ipython",
    "version": 2
   },
   "file_extension": ".py",
   "mimetype": "text/x-python",
   "name": "python",
   "nbconvert_exporter": "python",
   "pygments_lexer": "ipython2",
   "version": "2.7.6"
  }
 },
 "nbformat": 4,
 "nbformat_minor": 0
}