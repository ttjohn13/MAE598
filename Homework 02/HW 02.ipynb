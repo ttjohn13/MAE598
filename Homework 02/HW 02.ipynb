{
 "cells": [
  {
   "cell_type": "markdown",
   "source": [
    "# Homework 2\n",
    "## problem 1\n",
    "Show that the stationary point (zero gradient) of the function <br>\n",
    "$ f(x_1,x_2) = 2x_1^2 -4x_1x_2 + 1.5x_2^2 + x_2 \\ $\n",
    "is a saddle (with indefinite Hessian).\n",
    "\n",
    "$ g(x_1,x_2) = \\begin{bmatrix} 4x_1 - 4x_2 \\\\ -4x_1 + 3x_2 + 1 \\end{bmatrix} $ <br>\n",
    "\n",
    "$ H(x_1,x_2) = \\begin{bmatrix} 4 & -4 \\\\ -4 & 3 \\end{bmatrix} $\n"
   ],
   "metadata": {
    "collapsed": false,
    "pycharm": {
     "name": "#%% md\n"
    }
   }
  },
  {
   "cell_type": "code",
   "execution_count": null,
   "outputs": [],
   "source": [],
   "metadata": {
    "collapsed": false,
    "pycharm": {
     "name": "#%%\n"
    }
   }
  }
 ],
 "metadata": {
  "kernelspec": {
   "display_name": "Python 3",
   "language": "python",
   "name": "python3"
  },
  "language_info": {
   "codemirror_mode": {
    "name": "ipython",
    "version": 2
   },
   "file_extension": ".py",
   "mimetype": "text/x-python",
   "name": "python",
   "nbconvert_exporter": "python",
   "pygments_lexer": "ipython2",
   "version": "2.7.6"
  }
 },
 "nbformat": 4,
 "nbformat_minor": 0
}