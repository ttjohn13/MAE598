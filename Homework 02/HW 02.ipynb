{
 "cells": [
  {
   "cell_type": "markdown",
   "source": [
    "# Homework 2\n",
    "## problem 1\n",
    "Show that the stationary point (zero gradient) of the function <br>\n",
    "$ f(x_1,x_2) = 2x_1^2 -4x_1x_2 + 1.5x_2^2 + x_2 \\ $\n",
    "is a saddle (with indefinite Hessian).\n",
    "\n",
    "$ g(x_1,x_2) = \\begin{bmatrix} 4x_1 - 4x_2 \\\\ -4x_1 + 3x_2 + 1 \\end{bmatrix} $ <br>\n",
    "\n",
    "$ H(x_1,x_2) = \\begin{bmatrix} 4 & -4 \\\\ -4 & 3 \\end{bmatrix} $ <br>\n",
    "$ | H - \\lambda I | = 0 $ <br>\n",
    "$ \\begin{vmatrix} 4-\\lambda & -4 \\\\ -4 & 3-\\lambda \\end{vmatrix} = 0 = (4-\\lambda)(3-\\lambda) - (-4*-4)$\n",
    "$ = 12 - 7\\lambda + \\lambda^2 - 16 \\\\ \\quad \\lambda^2 - 7\\lambda - 4 = 0$\n",
    "$ \\lambda = 7.5311\\  ;\\ -0.5311$\n",
    "The Hessian of this function has both negative and positive eigen values. This means the Hessian is indefinite and the function has a saddle point. This saddle point occurs at (1,1). <br><br>\n",
    "\n",
    "Taylor Series expansion <br>\n",
    "$f(x_1,x_2) = f(1,1) + g|^T_{(1,1)}\\begin{bmatrix} x_1-1 \\\\ x_2-1\\end{bmatrix} + \\frac{1}{2} \\begin{bmatrix} x_1-1 \\\\ x_2-1\\end{bmatrix} ^T \\begin{bmatrix} 4 & -4 \\\\ -4 & 3\\end{bmatrix} \\begin{bmatrix} x_1-1 \\\\ x_2-1\\end{bmatrix} $ <br>\n",
    "g(X) evaluated at (1,1) is equal to zero so it drops out. Doing the vector multiplication:<br>\n",
    "$ f(x_1,x_2) - f(1,1) = \\frac{1}{2}  \\left( 4( \\partial x_1)^2 - 4 \\partial x_1 \\partial x_2 - 4\\partial x_1 \\partial x_2 + 3(\\partial x_2)^2 \\right) $\n",
    "Where $ \\partial x_i = x_i -1 \\ $ for $i=1,2 $ <br>\n",
    "The right hand side of the equation can be factored into:\n",
    "$ \\frac{1}{2} (2\\partial x_1 - 3\\partial x_2)(2\\partial x_1 - \\partial x_2) $\n",
    "The downward slopes occur when $ \\frac{1}{2} (2\\partial x_1 - 2\\partial x_2)(2\\partial x_1 - \\partial x_2) < 0$\n",
    "There is a downward slope when only one factor is negative.\n",
    "$ 2\\partial x_1 <\\partial x_2 \\quad 2\\partial x_1 < \\partial x_2 $ <br>\n",
    "so Any direction between vectors <3,2> and <1,2> or the negative counterparts has a downward slope."
   ],
   "metadata": {
    "collapsed": false,
    "pycharm": {
     "name": "#%% md\n"
    }
   }
  },
  {
   "cell_type": "code",
   "execution_count": null,
   "outputs": [],
   "source": [],
   "metadata": {
    "collapsed": false,
    "pycharm": {
     "name": "#%%\n",
     "is_executing": true
    }
   }
  },
  {
   "cell_type": "code",
   "execution_count": null,
   "outputs": [],
   "source": [],
   "metadata": {
    "collapsed": false,
    "pycharm": {
     "name": "#%%\n"
    }
   }
  }
 ],
 "metadata": {
  "kernelspec": {
   "display_name": "Python 3",
   "language": "python",
   "name": "python3"
  },
  "language_info": {
   "codemirror_mode": {
    "name": "ipython",
    "version": 2
   },
   "file_extension": ".py",
   "mimetype": "text/x-python",
   "name": "python",
   "nbconvert_exporter": "python",
   "pygments_lexer": "ipython2",
   "version": "2.7.6"
  }
 },
 "nbformat": 4,
 "nbformat_minor": 0
}